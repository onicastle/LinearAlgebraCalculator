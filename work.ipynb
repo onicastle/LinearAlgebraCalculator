{
 "cells": [
  {
   "cell_type": "code",
   "execution_count": null,
   "outputs": [],
   "source": [
    "target = \"3\"\n",
    "\n",
    "class Term:\n",
    "    \n",
    "    def __init__(self, coefficient = None, exponent=None):\n",
    "        \n",
    "        if coefficient and exponent is None:\n",
    "            self.coefficient, self.exponent = 0\n",
    "        elif coefficient is not None:\n",
    "            self.coefficient = coefficient\n",
    "            self.exponent = 0\n",
    "        else:\n",
    "            self.exponent = exponent\n",
    "            self.coefficient = coefficient\n",
    "    \n",
    "    def __str__(self):\n",
    "        \n",
    "        if self.coefficient is 0 and self.exponent is not 0:\n",
    "            return \"0.00\"\n",
    "        elif self.coefficient is not 0 and self.exponent is 0:\n",
    "            return \"{}\".format(self.coefficient)\n",
    "        elif self.coefficient is not 0 and self.exponent is 1:\n",
    "            return \"{}x\".format(self.coefficient)\n",
    "        elif self.coefficient and self.exponent is not 0:\n",
    "            return \"{}x^{}\".format(self.coefficient, self.exponent)\n",
    "        else:\n",
    "            return \"C\"\n",
    "            \n",
    "    "
   ],
   "metadata": {
    "collapsed": false,
    "pycharm": {
     "name": "#%%\n"
    }
   }
  },
  {
   "cell_type": "code",
   "execution_count": null,
   "outputs": [],
   "source": [
    "t = Term(3,5)\n",
    "print(t)"
   ],
   "metadata": {
    "collapsed": false,
    "pycharm": {
     "name": "#%%\n"
    }
   }
  }
 ],
 "metadata": {
  "kernelspec": {
   "display_name": "Python 3",
   "language": "python",
   "name": "python3"
  },
  "language_info": {
   "codemirror_mode": {
    "name": "ipython",
    "version": 2
   },
   "file_extension": ".py",
   "mimetype": "text/x-python",
   "name": "python",
   "nbconvert_exporter": "python",
   "pygments_lexer": "ipython2",
   "version": "2.7.6"
  },
  "pycharm": {
   "stem_cell": {
    "cell_type": "raw",
    "source": [],
    "metadata": {
     "collapsed": false
    }
   }
  }
 },
 "nbformat": 4,
 "nbformat_minor": 0
}